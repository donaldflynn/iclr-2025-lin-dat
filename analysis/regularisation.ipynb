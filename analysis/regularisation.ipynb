{
 "cells": [
  {
   "cell_type": "code",
   "execution_count": null,
   "id": "212adff6",
   "metadata": {},
   "outputs": [],
   "source": [
    "import pickle\n",
    "import pandas as pd\n",
    "\n",
    "# Load multiple experiments\n",
    "experiments = [\n",
    "    'outputs/baseline/2024-01-15_14-30-45',\n",
    "    'outputs/baseline/2024-01-15_14-45-30'\n",
    "]\n",
    "\n",
    "data = []\n",
    "for exp_dir in experiments:\n",
    "    with open(f'{exp_dir}/results.pkl', 'rb') as f:\n",
    "        r = pickle.load(f)\n",
    "    data.append({\n",
    "        'model': r['config']['model']['type'],\n",
    "        'accuracy': r['performance']['accuracy'],\n",
    "        'regularization': r['config']['model']['regularization']\n",
    "    })\n",
    "\n",
    "df = pd.DataFrame(data)\n",
    "print(df)"
   ]
  }
 ],
 "metadata": {
  "kernelspec": {
   "display_name": ".venv (3.13.5)",
   "language": "python",
   "name": "python3"
  },
  "language_info": {
   "name": "python",
   "version": "3.13.5"
  }
 },
 "nbformat": 4,
 "nbformat_minor": 5
}
